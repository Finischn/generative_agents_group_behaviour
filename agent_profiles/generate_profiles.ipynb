{
 "cells": [
  {
   "cell_type": "markdown",
   "metadata": {},
   "source": [
    "using sociodemographics from Beck, Tilman et al. (2024). “Sensitivity, Performance, Robustness: Deconstructing the Effect of Sociodemographic\n",
    "Prompting”. In: Proceedings of the 18th Conference of the European Chapter of the Association for Computational Linguistics (Volume 1: Long Papers), pp. 2589–2615.\n",
    "\n",
    "https://github.com/UKPLab/arxiv2023-sociodemographic-prompting/blob/main/Dataset_Preparation_Sampling.ipynb"
   ]
  },
  {
   "cell_type": "code",
   "execution_count": 8,
   "metadata": {},
   "outputs": [],
   "source": [
    "# base sociodemograpics selected from toxicity_diverseperspectives dataset\n",
    "genders =  ['male', 'female']  # for now we ignore 'nonbinary'\n",
    "\n",
    "races = ['Black or African American', 'White', 'Asian',\n",
    "       'American Indian or Alaska Native', 'Hispanic',\n",
    "       'Native Hawaiian or Pacific Islander']\n",
    "\n",
    "educations = ['Some college but no degree',\n",
    "       'Associate degree in college (2-year)',\n",
    "       \"Bachelor's degree in college (4-year)\", 'Doctoral degree',\n",
    "       \"Master's degree\", 'Professional degree (JD, MD)',\n",
    "       'High school graduate (high school diploma or equivalent including GED)',\n",
    "       'Less than high school degree']\n",
    "\n",
    "age_ranges = {\n",
    "    '18 - 24': (18, 24),\n",
    "    '25 - 34': (25, 34),\n",
    "    '35 - 44': (35, 44),\n",
    "    '45 - 54': (45, 54),\n",
    "    '55 - 64': (55, 64),\n",
    "    '65 or older': (65, 80)\n",
    "}\n",
    "\n",
    "political_affiliations = ['Liberal', 'Independent', 'Conservative']"
   ]
  },
  {
   "cell_type": "markdown",
   "metadata": {},
   "source": [
    "persona names and their gender (gender is given by randomly chosen personas) now profiles for the other characteristics need to be randomly created"
   ]
  },
  {
   "cell_type": "code",
   "execution_count": 35,
   "metadata": {},
   "outputs": [],
   "source": [
    "# personas = {\n",
    "#     \"Adam Smith\": \"Male\",\n",
    "#     \"Ayesha Khan\": \"Female\",\n",
    "#     \"Carlos Gomez\": \"Male\",\n",
    "#     \"Eddy Lin\": \"Male\",\n",
    "#     \"Isabella Rodriguez\": \"Female\",\n",
    "#     \"Klaus Mueller\": \"Male\",\n",
    "#     \"Sam Moore\": \"Male\",\n",
    "#     \"Tamara Taylor\": \"Female\",\n",
    "#     \"Tom Moreno\": \"Male\",\n",
    "#     \"Wolfgang Schulz\": \"Male\"\n",
    "# }"
   ]
  },
  {
   "cell_type": "code",
   "execution_count": 39,
   "metadata": {},
   "outputs": [],
   "source": [
    "personas = {\n",
    "    \"Isabella Rodriguez\": \"Female\",\n",
    "    \"Klaus Mueller\": \"Male\",\n",
    "    \"Maria Lopez\": \"Female\"\n",
    "}"
   ]
  },
  {
   "cell_type": "code",
   "execution_count": 41,
   "metadata": {},
   "outputs": [
    {
     "name": "stdout",
     "output_type": "stream",
     "text": [
      "Isabella Rodriguez: {'gender': 'Female', 'race_div': 'American Indian or Alaska Native', 'education': \"Master's degree\", 'age': 38, 'political_affiliation': 'Conservative'}\n",
      "Klaus Mueller: {'gender': 'Male', 'race_div': 'American Indian or Alaska Native', 'education': 'Professional degree (JD, MD)', 'age': 22, 'political_affiliation': 'Independent'}\n",
      "Maria Lopez: {'gender': 'Female', 'race_div': 'White', 'education': 'Associate degree in college (2-year)', 'age': 30, 'political_affiliation': 'Liberal'}\n"
     ]
    }
   ],
   "source": [
    "import random\n",
    "\n",
    "random.seed(50)\n",
    "\n",
    "# Function to generate a random profile, keeping the given gender\n",
    "def generate_profile(gender):\n",
    "    race = random.choice(races)\n",
    "    education = random.choice(educations)\n",
    "    age_range = random.choice(list(age_ranges.keys()))\n",
    "    age = random.randint(age_ranges[age_range][0], age_ranges[age_range][1])\n",
    "    political_affiliation = random.choice(political_affiliations)\n",
    "    \n",
    "    return {\n",
    "        \"gender\": gender,\n",
    "        \"race_div\": race,\n",
    "        \"education\": education,\n",
    "       # \"age_range\": age_range,\n",
    "        \"age\": age,\n",
    "        \"political_affiliation\": political_affiliation\n",
    "    }\n",
    "\n",
    "# Generate profiles for each persona\n",
    "profiles = {persona: generate_profile(gender) for persona, gender in personas.items()}\n",
    "\n",
    "# Print profiles\n",
    "for persona, profile in profiles.items():\n",
    "    print(f\"{persona}: {profile}\")"
   ]
  },
  {
   "cell_type": "code",
   "execution_count": 37,
   "metadata": {},
   "outputs": [
    {
     "name": "stdout",
     "output_type": "stream",
     "text": [
      "Updated scratch file for Adam Smith\n",
      "Updated scratch file for Ayesha Khan\n",
      "Updated scratch file for Carlos Gomez\n",
      "Updated scratch file for Eddy Lin\n",
      "Updated scratch file for Isabella Rodriguez\n",
      "Updated scratch file for Klaus Mueller\n",
      "Updated scratch file for Sam Moore\n",
      "Updated scratch file for Tamara Taylor\n",
      "Updated scratch file for Tom Moreno\n",
      "Updated scratch file for Wolfgang Schulz\n"
     ]
    }
   ],
   "source": [
    "import json\n",
    "import os\n",
    "\n",
    "simulation = \"base_the_ville_n10\"\n",
    "\n",
    "# Function to update the scratch file for each persona\n",
    "def update_scratch_file(persona_name, profile):\n",
    "    # Construct the path to the scratch file\n",
    "    path = f\"../environment/frontend_server/storage/{simulation}/personas/{persona_name}/bootstrap_memory/scratch.json\"\n",
    "    \n",
    "    # Load the existing data from the scratch file\n",
    "    if os.path.exists(path):\n",
    "        with open(path, 'r') as f:\n",
    "            scratch_data = json.load(f)\n",
    "    else:\n",
    "        print(f\"File not found for {persona_name}: {path}\")\n",
    "        return\n",
    "    \n",
    "    # Update the scratch data with new characteristics\n",
    "    scratch_data['gender'] = profile['gender']\n",
    "    scratch_data['race_div'] = profile['race_div']\n",
    "    scratch_data['education'] = profile['education']\n",
    "    scratch_data['age'] = profile['age']\n",
    "    scratch_data['political_affiliation'] = profile['political_affiliation']\n",
    "    \n",
    "    # Write the updated data back to the file\n",
    "    with open(path, 'w') as f:\n",
    "        json.dump(scratch_data, f, indent=4)\n",
    "    print(f\"Updated scratch file for {persona_name}\")\n",
    "\n",
    "# Iterate over each persona and update their scratch file\n",
    "for persona_name, profile in profiles.items():\n",
    "    update_scratch_file(persona_name, profile)\n"
   ]
  }
 ],
 "metadata": {
  "kernelspec": {
   "display_name": ".venv",
   "language": "python",
   "name": "python3"
  },
  "language_info": {
   "codemirror_mode": {
    "name": "ipython",
    "version": 3
   },
   "file_extension": ".py",
   "mimetype": "text/x-python",
   "name": "python",
   "nbconvert_exporter": "python",
   "pygments_lexer": "ipython3",
   "version": "3.11.9"
  }
 },
 "nbformat": 4,
 "nbformat_minor": 2
}
