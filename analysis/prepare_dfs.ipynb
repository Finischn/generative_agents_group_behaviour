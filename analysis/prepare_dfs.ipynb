{
 "cells": [
  {
   "cell_type": "markdown",
   "metadata": {},
   "source": [
    "## Prepare CSVs "
   ]
  },
  {
   "cell_type": "code",
   "execution_count": 4,
   "metadata": {},
   "outputs": [
    {
     "name": "stdout",
     "output_type": "stream",
     "text": [
      "Processed sentimentAnalysisEvil_1_characterPrompt_without_history.txt and saved as sentimentAnalysisEvil_1_characterPrompt_without_history.csv\n",
      "Processed sentimentAnalysisEvil_1_characterPrompt_with_history.txt and saved as sentimentAnalysisEvil_1_characterPrompt_with_history.csv\n",
      "Processed sentimentAnalysisEvil_1_without_history.txt and saved as sentimentAnalysisEvil_1_without_history.csv\n",
      "Processed sentimentAnalysisEvil_1_with_history.txt and saved as sentimentAnalysisEvil_1_with_history.csv\n",
      "Processed sentimentAnalysisEvil_2_characterPrompt_without_history.txt and saved as sentimentAnalysisEvil_2_characterPrompt_without_history.csv\n",
      "Processed sentimentAnalysisEvil_2_characterRelationshipPrompt_without_history.txt and saved as sentimentAnalysisEvil_2_characterRelationshipPrompt_without_history.csv\n",
      "Processed sentimentAnalysisEvil_2_characterRelationshipPrompt_with_history.txt and saved as sentimentAnalysisEvil_2_characterRelationshipPrompt_with_history.csv\n",
      "Processed sentimentAnalysisEvil_2_without_history.txt and saved as sentimentAnalysisEvil_2_without_history.csv\n",
      "Processed sentimentAnalysisEvil_2_with_history.txt and saved as sentimentAnalysisEvil_2_with_history.csv\n",
      "Processed sentimentAnalysisWithHistEvil_1_characterRelationshipPrompt_without_history.txt and saved as sentimentAnalysisWithHistEvil_1_characterRelationshipPrompt_without_history.csv\n",
      "Processed sentimentAnalysisWithHistEvil_1_without_history.txt and saved as sentimentAnalysisWithHistEvil_1_without_history.csv\n",
      "Processed sentimentAnalysisWithHistEvil_2_characterRelationshipPrompt_without_history.txt and saved as sentimentAnalysisWithHistEvil_2_characterRelationshipPrompt_without_history.csv\n",
      "Processed sentimentAnalysisWithHistEvil_2_without_history.txt and saved as sentimentAnalysisWithHistEvil_2_without_history.csv\n",
      "Processed sentimentAnalysis_1_without_history.txt and saved as sentimentAnalysis_1_without_history.csv\n",
      "Processed sentimentAnalysis_1_with_history.txt and saved as sentimentAnalysis_1_with_history.csv\n",
      "Processed sentimentAnalysis_2_without_history.txt and saved as sentimentAnalysis_2_without_history.csv\n",
      "Processed sentimentAnalysis_2_with_history.txt and saved as sentimentAnalysis_2_with_history.csv\n"
     ]
    }
   ],
   "source": [
    "import os\n",
    "import csv\n",
    "import re\n",
    "\n",
    "def parse_chat_log(file_path):\n",
    "    with open(file_path, 'r') as file:\n",
    "        content = file.read()\n",
    "\n",
    "    # Initialize a list to store rows\n",
    "    rows = []\n",
    "\n",
    "    # Split the content into individual chats\n",
    "    chats = content.split(\"Chat \")\n",
    "\n",
    "    for chat in chats[1:]:  # Skip the first split part since it's before \"Chat 1:\"\n",
    "        lines = chat.splitlines()\n",
    "        chat_id = lines[0].split(':')[0].strip()\n",
    "        details = \" \".join(line.strip() for line in lines[1:])\n",
    "\n",
    "        # Extract all conversation lines\n",
    "        conversation_lines = [line for line in lines[1:] if ':' in line]\n",
    "        conversation_text = \"; \".join(conversation_lines)\n",
    "\n",
    "        chat_id = f\"{chat_id}\"  # Placeholder description\n",
    "        # Add the row to the list\n",
    "        rows.append([chat_id, conversation_text])\n",
    "\n",
    "    return rows\n",
    "\n",
    "def save_to_csv(rows, output_file):\n",
    "    # Define the CSV headers\n",
    "    headers = [\"chat_id\", \"Details\"]\n",
    "\n",
    "    # Write the rows to a CSV file\n",
    "    with open(output_file, 'w', newline='', encoding='utf-8') as csvfile:\n",
    "        writer = csv.writer(csvfile)\n",
    "        writer.writerow(headers)  # Write the headers\n",
    "        writer.writerows(rows)  # Write the data\n",
    "\n",
    "# Directory containing chat logs\n",
    "directory_path = os.getcwd()\n",
    "\n",
    "# Iterate over all text files in the current directory\n",
    "for filename in os.listdir(directory_path):\n",
    "    if filename.endswith(\".txt\"):  # Only process text files\n",
    "        file_path = os.path.join(directory_path, filename)\n",
    "        # Parse the chat log\n",
    "        rows = parse_chat_log(file_path)\n",
    "        # Save the parsed data to a CSV file\n",
    "        output_file = f\"{os.path.splitext(filename)[0]}.csv\"\n",
    "        save_to_csv(rows, output_file)\n",
    "        print(f\"Processed {filename} and saved as {output_file}\")\n"
   ]
  }
 ],
 "metadata": {
  "kernelspec": {
   "display_name": ".spaCy",
   "language": "python",
   "name": "python3"
  },
  "language_info": {
   "codemirror_mode": {
    "name": "ipython",
    "version": 3
   },
   "file_extension": ".py",
   "mimetype": "text/x-python",
   "name": "python",
   "nbconvert_exporter": "python",
   "pygments_lexer": "ipython3",
   "version": "3.9.12"
  }
 },
 "nbformat": 4,
 "nbformat_minor": 2
}
